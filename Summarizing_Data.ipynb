{
 "cells": [
  {
   "cell_type": "markdown",
   "metadata": {},
   "source": [
    "# Summarizing Data: Student Data and World Development\n",
    "Chien-Lan Hsueh"
   ]
  },
  {
   "cell_type": "markdown",
   "metadata": {},
   "source": [
    "## Part 1 - Summarizing Student Data"
   ]
  },
  {
   "cell_type": "code",
   "execution_count": 1,
   "metadata": {},
   "outputs": [],
   "source": [
    "# import modules used in this assignment\n",
    "import numpy as np\n",
    "import pandas as pd\n",
    "import matplotlib.pyplot as plt\n",
    "from itertools import combinations"
   ]
  },
  {
   "cell_type": "markdown",
   "metadata": {},
   "source": [
    "### Task 1:  Read in the data"
   ]
  },
  {
   "cell_type": "code",
   "execution_count": 2,
   "metadata": {},
   "outputs": [
    {
     "name": "stdout",
     "output_type": "stream",
     "text": [
      "<class 'pandas.core.frame.DataFrame'>\n",
      "RangeIndex: 395 entries, 0 to 394\n",
      "Data columns (total 33 columns):\n",
      " #   Column      Non-Null Count  Dtype \n",
      "---  ------      --------------  ----- \n",
      " 0   school      395 non-null    object\n",
      " 1   sex         395 non-null    object\n",
      " 2   age         395 non-null    int64 \n",
      " 3   address     395 non-null    object\n",
      " 4   famsize     395 non-null    object\n",
      " 5   Pstatus     395 non-null    object\n",
      " 6   Medu        395 non-null    int64 \n",
      " 7   Fedu        395 non-null    int64 \n",
      " 8   Mjob        395 non-null    object\n",
      " 9   Fjob        395 non-null    object\n",
      " 10  reason      395 non-null    object\n",
      " 11  guardian    395 non-null    object\n",
      " 12  traveltime  395 non-null    int64 \n",
      " 13  studytime   395 non-null    int64 \n",
      " 14  failures    395 non-null    int64 \n",
      " 15  schoolsup   395 non-null    object\n",
      " 16  famsup      395 non-null    object\n",
      " 17  paid        395 non-null    object\n",
      " 18  activities  395 non-null    object\n",
      " 19  nursery     395 non-null    object\n",
      " 20  higher      395 non-null    object\n",
      " 21  internet    395 non-null    object\n",
      " 22  romantic    395 non-null    object\n",
      " 23  famrel      395 non-null    int64 \n",
      " 24  freetime    395 non-null    int64 \n",
      " 25  goout       395 non-null    int64 \n",
      " 26  Dalc        395 non-null    int64 \n",
      " 27  Walc        395 non-null    int64 \n",
      " 28  health      395 non-null    int64 \n",
      " 29  absences    395 non-null    int64 \n",
      " 30  G1          395 non-null    int64 \n",
      " 31  G2          395 non-null    int64 \n",
      " 32  G3          395 non-null    int64 \n",
      "dtypes: int64(16), object(17)\n",
      "memory usage: 102.0+ KB\n",
      "None\n"
     ]
    },
    {
     "data": {
      "text/html": [
       "<div>\n",
       "<style scoped>\n",
       "    .dataframe tbody tr th:only-of-type {\n",
       "        vertical-align: middle;\n",
       "    }\n",
       "\n",
       "    .dataframe tbody tr th {\n",
       "        vertical-align: top;\n",
       "    }\n",
       "\n",
       "    .dataframe thead th {\n",
       "        text-align: right;\n",
       "    }\n",
       "</style>\n",
       "<table border=\"1\" class=\"dataframe\">\n",
       "  <thead>\n",
       "    <tr style=\"text-align: right;\">\n",
       "      <th></th>\n",
       "      <th>school</th>\n",
       "      <th>sex</th>\n",
       "      <th>age</th>\n",
       "      <th>address</th>\n",
       "      <th>famsize</th>\n",
       "      <th>Pstatus</th>\n",
       "      <th>Medu</th>\n",
       "      <th>Fedu</th>\n",
       "      <th>Mjob</th>\n",
       "      <th>Fjob</th>\n",
       "      <th>...</th>\n",
       "      <th>famrel</th>\n",
       "      <th>freetime</th>\n",
       "      <th>goout</th>\n",
       "      <th>Dalc</th>\n",
       "      <th>Walc</th>\n",
       "      <th>health</th>\n",
       "      <th>absences</th>\n",
       "      <th>G1</th>\n",
       "      <th>G2</th>\n",
       "      <th>G3</th>\n",
       "    </tr>\n",
       "  </thead>\n",
       "  <tbody>\n",
       "    <tr>\n",
       "      <th>0</th>\n",
       "      <td>GP</td>\n",
       "      <td>F</td>\n",
       "      <td>18</td>\n",
       "      <td>U</td>\n",
       "      <td>GT3</td>\n",
       "      <td>A</td>\n",
       "      <td>4</td>\n",
       "      <td>4</td>\n",
       "      <td>at_home</td>\n",
       "      <td>teacher</td>\n",
       "      <td>...</td>\n",
       "      <td>4</td>\n",
       "      <td>3</td>\n",
       "      <td>4</td>\n",
       "      <td>1</td>\n",
       "      <td>1</td>\n",
       "      <td>3</td>\n",
       "      <td>6</td>\n",
       "      <td>5</td>\n",
       "      <td>6</td>\n",
       "      <td>6</td>\n",
       "    </tr>\n",
       "    <tr>\n",
       "      <th>1</th>\n",
       "      <td>GP</td>\n",
       "      <td>F</td>\n",
       "      <td>17</td>\n",
       "      <td>U</td>\n",
       "      <td>GT3</td>\n",
       "      <td>T</td>\n",
       "      <td>1</td>\n",
       "      <td>1</td>\n",
       "      <td>at_home</td>\n",
       "      <td>other</td>\n",
       "      <td>...</td>\n",
       "      <td>5</td>\n",
       "      <td>3</td>\n",
       "      <td>3</td>\n",
       "      <td>1</td>\n",
       "      <td>1</td>\n",
       "      <td>3</td>\n",
       "      <td>4</td>\n",
       "      <td>5</td>\n",
       "      <td>5</td>\n",
       "      <td>6</td>\n",
       "    </tr>\n",
       "    <tr>\n",
       "      <th>2</th>\n",
       "      <td>GP</td>\n",
       "      <td>F</td>\n",
       "      <td>15</td>\n",
       "      <td>U</td>\n",
       "      <td>LE3</td>\n",
       "      <td>T</td>\n",
       "      <td>1</td>\n",
       "      <td>1</td>\n",
       "      <td>at_home</td>\n",
       "      <td>other</td>\n",
       "      <td>...</td>\n",
       "      <td>4</td>\n",
       "      <td>3</td>\n",
       "      <td>2</td>\n",
       "      <td>2</td>\n",
       "      <td>3</td>\n",
       "      <td>3</td>\n",
       "      <td>10</td>\n",
       "      <td>7</td>\n",
       "      <td>8</td>\n",
       "      <td>10</td>\n",
       "    </tr>\n",
       "    <tr>\n",
       "      <th>3</th>\n",
       "      <td>GP</td>\n",
       "      <td>F</td>\n",
       "      <td>15</td>\n",
       "      <td>U</td>\n",
       "      <td>GT3</td>\n",
       "      <td>T</td>\n",
       "      <td>4</td>\n",
       "      <td>2</td>\n",
       "      <td>health</td>\n",
       "      <td>services</td>\n",
       "      <td>...</td>\n",
       "      <td>3</td>\n",
       "      <td>2</td>\n",
       "      <td>2</td>\n",
       "      <td>1</td>\n",
       "      <td>1</td>\n",
       "      <td>5</td>\n",
       "      <td>2</td>\n",
       "      <td>15</td>\n",
       "      <td>14</td>\n",
       "      <td>15</td>\n",
       "    </tr>\n",
       "    <tr>\n",
       "      <th>4</th>\n",
       "      <td>GP</td>\n",
       "      <td>F</td>\n",
       "      <td>16</td>\n",
       "      <td>U</td>\n",
       "      <td>GT3</td>\n",
       "      <td>T</td>\n",
       "      <td>3</td>\n",
       "      <td>3</td>\n",
       "      <td>other</td>\n",
       "      <td>other</td>\n",
       "      <td>...</td>\n",
       "      <td>4</td>\n",
       "      <td>3</td>\n",
       "      <td>2</td>\n",
       "      <td>1</td>\n",
       "      <td>2</td>\n",
       "      <td>5</td>\n",
       "      <td>4</td>\n",
       "      <td>6</td>\n",
       "      <td>10</td>\n",
       "      <td>10</td>\n",
       "    </tr>\n",
       "  </tbody>\n",
       "</table>\n",
       "<p>5 rows × 33 columns</p>\n",
       "</div>"
      ],
      "text/plain": [
       "  school sex  age address famsize Pstatus  Medu  Fedu     Mjob      Fjob  ...  \\\n",
       "0     GP   F   18       U     GT3       A     4     4  at_home   teacher  ...   \n",
       "1     GP   F   17       U     GT3       T     1     1  at_home     other  ...   \n",
       "2     GP   F   15       U     LE3       T     1     1  at_home     other  ...   \n",
       "3     GP   F   15       U     GT3       T     4     2   health  services  ...   \n",
       "4     GP   F   16       U     GT3       T     3     3    other     other  ...   \n",
       "\n",
       "  famrel freetime  goout  Dalc  Walc health absences  G1  G2  G3  \n",
       "0      4        3      4     1     1      3        6   5   6   6  \n",
       "1      5        3      3     1     1      3        4   5   5   6  \n",
       "2      4        3      2     2     3      3       10   7   8  10  \n",
       "3      3        2      2     1     1      5        2  15  14  15  \n",
       "4      4        3      2     1     2      5        4   6  10  10  \n",
       "\n",
       "[5 rows x 33 columns]"
      ]
     },
     "execution_count": 2,
     "metadata": {},
     "output_type": "execute_result"
    }
   ],
   "source": [
    "# read in student math data\n",
    "df_raw = pd.read_csv(\"student-mat.csv\", sep = \";\")\n",
    "\n",
    "# get dataframe info\n",
    "print(df_raw.info())\n",
    "\n",
    "# take a look at the first 5 rows\n",
    "df_raw.head(5)"
   ]
  },
  {
   "cell_type": "markdown",
   "metadata": {},
   "source": [
    "### Task 2: Summarize the data"
   ]
  },
  {
   "cell_type": "markdown",
   "metadata": {},
   "source": [
    "#### Task 2.1: Categorical variables\n",
    "We summarize the following three categorical variables by creating contigency tables (one-way, two-way and three-way) and bar plots.\n",
    "\n",
    "From the description of the dataset:\n",
    "- 1 school - student's school (binary: \"GP\" - Gabriel Pereira or \"MS\" - Mousinho da Silveira): 2 levels\n",
    "- 2 sex - student's sex (binary: \"F\" - female or \"M\" - male): 2 levels\n",
    "- 12 guardian - student's guardian (nominal: \"mother\", \"father\" or \"other\"): 3 levels\n",
    "\n",
    "We choose to use the variables #1 school, #2 sex and #12 guardian: "
   ]
  },
  {
   "cell_type": "code",
   "execution_count": 3,
   "metadata": {},
   "outputs": [],
   "source": [
    "# select the variables of interest by index #\n",
    "vars_picked = [1, 2, 12]"
   ]
  },
  {
   "cell_type": "markdown",
   "metadata": {},
   "source": [
    "Convert to categorical variables:"
   ]
  },
  {
   "cell_type": "code",
   "execution_count": 4,
   "metadata": {},
   "outputs": [
    {
     "name": "stdout",
     "output_type": "stream",
     "text": [
      "0    GP\n",
      "1    GP\n",
      "2    GP\n",
      "3    GP\n",
      "4    GP\n",
      "Name: school, dtype: category\n",
      "Categories (2, object): ['GP', 'MS']\n",
      "\n",
      "\n",
      "0    F\n",
      "1    F\n",
      "2    F\n",
      "3    F\n",
      "4    F\n",
      "Name: sex, dtype: category\n",
      "Categories (2, object): ['F', 'M']\n",
      "\n",
      "\n",
      "0    mother\n",
      "1    father\n",
      "2    mother\n",
      "3    mother\n",
      "4    father\n",
      "Name: guardian, dtype: category\n",
      "Categories (3, object): ['father', 'mother', 'other']\n",
      "\n",
      "\n"
     ]
    }
   ],
   "source": [
    "# make a copy of the raw dataframe\n",
    "df = df_raw.copy()\n",
    "\n",
    "# convert the chosen columns to categorical variables\n",
    "for i in vars_picked:\n",
    "    df.iloc[:, i-1] = df_raw.iloc[:, i-1].astype(\"category\")\n",
    "    print(df.iloc[:, i-1].head())\n",
    "    print(\"\\n\")\n",
    "    pass"
   ]
  },
  {
   "cell_type": "markdown",
   "metadata": {},
   "source": [
    "##### #1 One-way contingency tables\n",
    "There are 3 one-way tables from the 3 categorical variables:"
   ]
  },
  {
   "cell_type": "code",
   "execution_count": 5,
   "metadata": {},
   "outputs": [
    {
     "name": "stdout",
     "output_type": "stream",
     "text": [
      "GP    349\n",
      "MS     46\n",
      "Name: school, dtype: int64\n",
      "\n",
      "\n",
      "F    208\n",
      "M    187\n",
      "Name: sex, dtype: int64\n",
      "\n",
      "\n",
      "mother    273\n",
      "father     90\n",
      "other      32\n",
      "Name: guardian, dtype: int64\n",
      "\n",
      "\n"
     ]
    }
   ],
   "source": [
    "# create one-way contingency tables\n",
    "for i in vars_picked:\n",
    "    print(df.iloc[:, i-1].value_counts())\n",
    "    print(\"\\n\")\n",
    "    pass"
   ]
  },
  {
   "cell_type": "markdown",
   "metadata": {},
   "source": [
    "**Interpretation of a one-way table**\n",
    "\n",
    "Using the first table (school) as an example, 349 students enroll in Gabriel Pereira (GP) and 46 enroll in Mousinho da Silveira (MS)."
   ]
  },
  {
   "cell_type": "markdown",
   "metadata": {},
   "source": [
    "##### #2 Two-way contingency tables\n",
    "There are $C^{3}_{2}=3$ combinations of two-way tables from the 3 categorical variables:"
   ]
  },
  {
   "cell_type": "code",
   "execution_count": 6,
   "metadata": {},
   "outputs": [
    {
     "name": "stdout",
     "output_type": "stream",
     "text": [
      "sex       F    M  All\n",
      "school               \n",
      "GP      183  166  349\n",
      "MS       25   21   46\n",
      "All     208  187  395\n",
      "\n",
      "\n",
      "guardian  father  mother  other  All\n",
      "school                              \n",
      "GP            78     245     26  349\n",
      "MS            12      28      6   46\n",
      "All           90     273     32  395\n",
      "\n",
      "\n",
      "guardian  father  mother  other  All\n",
      "sex                                 \n",
      "F             43     145     20  208\n",
      "M             47     128     12  187\n",
      "All           90     273     32  395\n",
      "\n",
      "\n"
     ]
    }
   ],
   "source": [
    "# create two-way contingency tables\n",
    "for i, j in list(combinations(vars_picked, 2)):\n",
    "    print(pd.crosstab(df.iloc[:, i-1], df.iloc[:, j-1], margins = True))\n",
    "    print(\"\\n\")\n",
    "    pass"
   ]
  },
  {
   "cell_type": "markdown",
   "metadata": {},
   "source": [
    "**Interpretation of a two-way table**\n",
    "\n",
    "Using the first table (school*sex) as an example: \n",
    "- Among the 349 students in Gabriel Pereira (GP), there are 183 female and 166 male students. \n",
    "- Among the 46 students in Mousinho da Silveira (MS), there are 25 femal and 21 male students."
   ]
  },
  {
   "cell_type": "markdown",
   "metadata": {},
   "source": [
    "##### #3 Three-way contingency table\n",
    "There are $C^{3}_{3}=1$ combination of three-way table from the 3 categorical variables:"
   ]
  },
  {
   "cell_type": "code",
   "execution_count": 7,
   "metadata": {},
   "outputs": [
    {
     "name": "stdout",
     "output_type": "stream",
     "text": [
      "guardian    father  mother  other  All\n",
      "school sex                            \n",
      "GP     F        37     128     18  183\n",
      "       M        41     117      8  166\n",
      "MS     F         6      17      2   25\n",
      "       M         6      11      4   21\n",
      "All             90     273     32  395\n",
      "\n",
      "\n"
     ]
    }
   ],
   "source": [
    "# create a three-way contingency table\n",
    "for i, j, k in list(combinations(vars_picked, 3)):\n",
    "    print(pd.crosstab([df.iloc[:, i-1], df.iloc[:, j-1]], df.iloc[:, k-1], margins = True))\n",
    "    print(\"\\n\")\n",
    "    pass"
   ]
  },
  {
   "cell_type": "markdown",
   "metadata": {},
   "source": [
    "**Interpretation of the three-way table**\n",
    "\n",
    "Using the  table (school *sex *guardian) as an example:\n",
    "- there are 37 female studens in GP school have father as their guardians\n",
    "- there are 41 male studens in GP school have father as their guardians\n",
    "- there are 6 female studens in MS school have father as their guardians\n",
    "- there are 6 male studens in MS school have father as their guardians.\n",
    "\n",
    "- there are 128 female studens in GP school have mother as their guardians\n",
    "- there are 117 male studens in GP school have mother as their guardians\n",
    "- there are 17 female studens in MS school have mother as their guardians\n",
    "- there are 11 male studens in MS school have mother as their guardians.\n",
    "\n",
    "- there are 18 female studens in GP school don't have their parents as their guardians\n",
    "- there are 8 male studens in GP school don't have their parents as their guardians\n",
    "- there are 2 female studens in MS school don't have their parents as their guardians\n",
    "- there are 4 male studens in MS school don't have their parents as their guardians."
   ]
  },
  {
   "cell_type": "markdown",
   "metadata": {},
   "source": [
    "##### #4 Conditional two-way contingency tables\n",
    "Create a conditional two-way table $school*guardian$: female students"
   ]
  },
  {
   "cell_type": "code",
   "execution_count": 8,
   "metadata": {},
   "outputs": [
    {
     "name": "stdout",
     "output_type": "stream",
     "text": [
      "guardian    father  mother  other\n",
      "school sex                       \n",
      "GP     F        37     128     18\n",
      "MS     F         6      17      2\n",
      "\n",
      "\n",
      "guardian    father  mother  other\n",
      "school sex                       \n",
      "GP     F        37     128     18\n",
      "MS     F         6      17      2\n",
      "\n",
      "\n"
     ]
    }
   ],
   "source": [
    "# Method 1: by subsetting the data and then creating the two-way table\n",
    "print(pd.crosstab([df.school, df[df.sex==\"F\"].sex], df.guardian))\n",
    "print(\"\\n\")\n",
    "\n",
    "# Method 2: by creating a three-way table and subsetting it\n",
    "print(pd.crosstab([df.school, df.sex], df.guardian).loc[((\"GP\", \"MS\"), \"F\"), :])\n",
    "print(\"\\n\")"
   ]
  },
  {
   "cell_type": "markdown",
   "metadata": {},
   "source": [
    "##### #5 Bar graphs\n",
    "Create a stacked bar graph and a side-by-side bar graph:"
   ]
  },
  {
   "cell_type": "code",
   "execution_count": 9,
   "metadata": {},
   "outputs": [
    {
     "data": {
      "image/png": "[encoded data removed]",
      "text/plain": [
       "<Figure size 432x288 with 1 Axes>"
      ]
     },
     "metadata": {
      "needs_background": "light"
     },
     "output_type": "display_data"
    }
   ],
   "source": [
    "# stacked bar graph\n",
    "pd.crosstab(df.school, df.guardian).plot.bar(stacked = True)\n",
    "\n",
    "# assign title and axis labels\n",
    "plt.title(\"Bar Chart: Guardian Type by School\")\n",
    "plt.xlabel(\"School\")\n",
    "plt.ylabel(\"Guardian\")\n",
    "\n",
    "plt.show()"
   ]
  },
  {
   "cell_type": "code",
   "execution_count": 10,
   "metadata": {},
   "outputs": [
    {
     "data": {
      "image/png": "[encoded data removed]",
      "text/plain": [
       "<Figure size 432x288 with 1 Axes>"
      ]
     },
     "metadata": {
      "needs_background": "light"
     },
     "output_type": "display_data"
    }
   ],
   "source": [
    "# side-by-side bar graph\n",
    "pd.crosstab(df.school, df.guardian).plot.bar()\n",
    "\n",
    "# assign title and axis labels\n",
    "plt.title(\"Bar Chart: Guardian Type by School\")\n",
    "plt.xlabel(\"School\")\n",
    "plt.ylabel(\"Guardian\")\n",
    "\n",
    "plt.show()"
   ]
  },
  {
   "cell_type": "markdown",
   "metadata": {},
   "source": [
    "#### Task 2.1: Numeric variables  (and across groups)\n",
    "For the selected numerica variables (age, absence and grades), we summarize them with the measure of center and spread, and correation matrixes as well as some graphical summary plots including histograms,kernek desnity plot, boxplots and scattering plots.\n",
    "\n",
    "##### #1 - #3 Measures of Center and Spread"
   ]
  },
  {
   "cell_type": "code",
   "execution_count": 11,
   "metadata": {},
   "outputs": [
    {
     "data": {
      "text/html": [
       "<div>\n",
       "<style scoped>\n",
       "    .dataframe tbody tr th:only-of-type {\n",
       "        vertical-align: middle;\n",
       "    }\n",
       "\n",
       "    .dataframe tbody tr th {\n",
       "        vertical-align: top;\n",
       "    }\n",
       "\n",
       "    .dataframe thead th {\n",
       "        text-align: right;\n",
       "    }\n",
       "</style>\n",
       "<table border=\"1\" class=\"dataframe\">\n",
       "  <thead>\n",
       "    <tr style=\"text-align: right;\">\n",
       "      <th></th>\n",
       "      <th>age</th>\n",
       "      <th>absences</th>\n",
       "      <th>G3</th>\n",
       "    </tr>\n",
       "  </thead>\n",
       "  <tbody>\n",
       "    <tr>\n",
       "      <th>mean</th>\n",
       "      <td>16.696203</td>\n",
       "      <td>5.708861</td>\n",
       "      <td>10.415190</td>\n",
       "    </tr>\n",
       "    <tr>\n",
       "      <th>std</th>\n",
       "      <td>1.276043</td>\n",
       "      <td>8.003096</td>\n",
       "      <td>4.581443</td>\n",
       "    </tr>\n",
       "  </tbody>\n",
       "</table>\n",
       "</div>"
      ],
      "text/plain": [
       "            age  absences         G3\n",
       "mean  16.696203  5.708861  10.415190\n",
       "std    1.276043  8.003096   4.581443"
      ]
     },
     "execution_count": 11,
     "metadata": {},
     "output_type": "execute_result"
    }
   ],
   "source": [
    "# measures of center and spread for G1, G2 and G3 grades\n",
    "df[[\"age\", \"absences\", \"G3\"]].agg([np.mean, np.std])"
   ]
  },
  {
   "cell_type": "code",
   "execution_count": 12,
   "metadata": {},
   "outputs": [
    {
     "data": {
      "text/html": [
       "<div>\n",
       "<style scoped>\n",
       "    .dataframe tbody tr th:only-of-type {\n",
       "        vertical-align: middle;\n",
       "    }\n",
       "\n",
       "    .dataframe tbody tr th {\n",
       "        vertical-align: top;\n",
       "    }\n",
       "\n",
       "    .dataframe thead tr th {\n",
       "        text-align: left;\n",
       "    }\n",
       "\n",
       "    .dataframe thead tr:last-of-type th {\n",
       "        text-align: right;\n",
       "    }\n",
       "</style>\n",
       "<table border=\"1\" class=\"dataframe\">\n",
       "  <thead>\n",
       "    <tr>\n",
       "      <th></th>\n",
       "      <th colspan=\"2\" halign=\"left\">age</th>\n",
       "      <th colspan=\"2\" halign=\"left\">absences</th>\n",
       "      <th colspan=\"2\" halign=\"left\">G3</th>\n",
       "    </tr>\n",
       "    <tr>\n",
       "      <th></th>\n",
       "      <th>mean</th>\n",
       "      <th>std</th>\n",
       "      <th>mean</th>\n",
       "      <th>std</th>\n",
       "      <th>mean</th>\n",
       "      <th>std</th>\n",
       "    </tr>\n",
       "    <tr>\n",
       "      <th>school</th>\n",
       "      <th></th>\n",
       "      <th></th>\n",
       "      <th></th>\n",
       "      <th></th>\n",
       "      <th></th>\n",
       "      <th></th>\n",
       "    </tr>\n",
       "  </thead>\n",
       "  <tbody>\n",
       "    <tr>\n",
       "      <th>GP</th>\n",
       "      <td>16.521490</td>\n",
       "      <td>1.216610</td>\n",
       "      <td>5.965616</td>\n",
       "      <td>8.341764</td>\n",
       "      <td>10.489971</td>\n",
       "      <td>4.625397</td>\n",
       "    </tr>\n",
       "    <tr>\n",
       "      <th>MS</th>\n",
       "      <td>18.021739</td>\n",
       "      <td>0.881643</td>\n",
       "      <td>3.760870</td>\n",
       "      <td>4.274913</td>\n",
       "      <td>9.847826</td>\n",
       "      <td>4.237229</td>\n",
       "    </tr>\n",
       "  </tbody>\n",
       "</table>\n",
       "</div>"
      ],
      "text/plain": [
       "              age            absences                   G3          \n",
       "             mean       std      mean       std       mean       std\n",
       "school                                                              \n",
       "GP      16.521490  1.216610  5.965616  8.341764  10.489971  4.625397\n",
       "MS      18.021739  0.881643  3.760870  4.274913   9.847826  4.237229"
      ]
     },
     "execution_count": 12,
     "metadata": {},
     "output_type": "execute_result"
    }
   ],
   "source": [
    "# measures of center and spread for G1, G2 and G3 grades by school\n",
    "df.groupby(\"school\")[[\"age\", \"absences\", \"G3\"]].agg([np.mean, np.std])"
   ]
  },
  {
   "cell_type": "code",
   "execution_count": 13,
   "metadata": {},
   "outputs": [
    {
     "data": {
      "text/html": [
       "<div>\n",
       "<style scoped>\n",
       "    .dataframe tbody tr th:only-of-type {\n",
       "        vertical-align: middle;\n",
       "    }\n",
       "\n",
       "    .dataframe tbody tr th {\n",
       "        vertical-align: top;\n",
       "    }\n",
       "\n",
       "    .dataframe thead tr th {\n",
       "        text-align: left;\n",
       "    }\n",
       "\n",
       "    .dataframe thead tr:last-of-type th {\n",
       "        text-align: right;\n",
       "    }\n",
       "</style>\n",
       "<table border=\"1\" class=\"dataframe\">\n",
       "  <thead>\n",
       "    <tr>\n",
       "      <th></th>\n",
       "      <th></th>\n",
       "      <th colspan=\"2\" halign=\"left\">age</th>\n",
       "      <th colspan=\"2\" halign=\"left\">absences</th>\n",
       "      <th colspan=\"2\" halign=\"left\">G3</th>\n",
       "    </tr>\n",
       "    <tr>\n",
       "      <th></th>\n",
       "      <th></th>\n",
       "      <th>mean</th>\n",
       "      <th>std</th>\n",
       "      <th>mean</th>\n",
       "      <th>std</th>\n",
       "      <th>mean</th>\n",
       "      <th>std</th>\n",
       "    </tr>\n",
       "    <tr>\n",
       "      <th>school</th>\n",
       "      <th>sex</th>\n",
       "      <th></th>\n",
       "      <th></th>\n",
       "      <th></th>\n",
       "      <th></th>\n",
       "      <th></th>\n",
       "      <th></th>\n",
       "    </tr>\n",
       "  </thead>\n",
       "  <tbody>\n",
       "    <tr>\n",
       "      <th rowspan=\"2\" valign=\"top\">GP</th>\n",
       "      <th>F</th>\n",
       "      <td>16.579235</td>\n",
       "      <td>1.173426</td>\n",
       "      <td>6.639344</td>\n",
       "      <td>9.852259</td>\n",
       "      <td>9.972678</td>\n",
       "      <td>4.604622</td>\n",
       "    </tr>\n",
       "    <tr>\n",
       "      <th>M</th>\n",
       "      <td>16.457831</td>\n",
       "      <td>1.263005</td>\n",
       "      <td>5.222892</td>\n",
       "      <td>6.215695</td>\n",
       "      <td>11.060241</td>\n",
       "      <td>4.594725</td>\n",
       "    </tr>\n",
       "    <tr>\n",
       "      <th rowspan=\"2\" valign=\"top\">MS</th>\n",
       "      <th>F</th>\n",
       "      <td>17.840000</td>\n",
       "      <td>0.746101</td>\n",
       "      <td>3.120000</td>\n",
       "      <td>4.702127</td>\n",
       "      <td>9.920000</td>\n",
       "      <td>4.846992</td>\n",
       "    </tr>\n",
       "    <tr>\n",
       "      <th>M</th>\n",
       "      <td>18.238095</td>\n",
       "      <td>0.995227</td>\n",
       "      <td>4.523810</td>\n",
       "      <td>3.669047</td>\n",
       "      <td>9.761905</td>\n",
       "      <td>3.491486</td>\n",
       "    </tr>\n",
       "  </tbody>\n",
       "</table>\n",
       "</div>"
      ],
      "text/plain": [
       "                  age            absences                   G3          \n",
       "                 mean       std      mean       std       mean       std\n",
       "school sex                                                              \n",
       "GP     F    16.579235  1.173426  6.639344  9.852259   9.972678  4.604622\n",
       "       M    16.457831  1.263005  5.222892  6.215695  11.060241  4.594725\n",
       "MS     F    17.840000  0.746101  3.120000  4.702127   9.920000  4.846992\n",
       "       M    18.238095  0.995227  4.523810  3.669047   9.761905  3.491486"
      ]
     },
     "execution_count": 13,
     "metadata": {},
     "output_type": "execute_result"
    }
   ],
   "source": [
    "# measures of center and spread for G1, G2 and G3 grades by school and sex\n",
    "df.groupby([\"school\", \"sex\"])[[\"age\", \"absences\", \"G3\"]].agg([np.mean, np.std])"
   ]
  },
  {
   "cell_type": "markdown",
   "metadata": {},
   "source": [
    "##### #4 Correlation Matrix"
   ]
  },
  {
   "cell_type": "code",
   "execution_count": 14,
   "metadata": {},
   "outputs": [
    {
     "data": {
      "text/html": [
       "<div>\n",
       "<style scoped>\n",
       "    .dataframe tbody tr th:only-of-type {\n",
       "        vertical-align: middle;\n",
       "    }\n",
       "\n",
       "    .dataframe tbody tr th {\n",
       "        vertical-align: top;\n",
       "    }\n",
       "\n",
       "    .dataframe thead th {\n",
       "        text-align: right;\n",
       "    }\n",
       "</style>\n",
       "<table border=\"1\" class=\"dataframe\">\n",
       "  <thead>\n",
       "    <tr style=\"text-align: right;\">\n",
       "      <th></th>\n",
       "      <th>age</th>\n",
       "      <th>absences</th>\n",
       "      <th>G1</th>\n",
       "      <th>G2</th>\n",
       "      <th>G3</th>\n",
       "    </tr>\n",
       "  </thead>\n",
       "  <tbody>\n",
       "    <tr>\n",
       "      <th>age</th>\n",
       "      <td>1.000000</td>\n",
       "      <td>0.175230</td>\n",
       "      <td>-0.064081</td>\n",
       "      <td>-0.143474</td>\n",
       "      <td>-0.161579</td>\n",
       "    </tr>\n",
       "    <tr>\n",
       "      <th>absences</th>\n",
       "      <td>0.175230</td>\n",
       "      <td>1.000000</td>\n",
       "      <td>-0.031003</td>\n",
       "      <td>-0.031777</td>\n",
       "      <td>0.034247</td>\n",
       "    </tr>\n",
       "    <tr>\n",
       "      <th>G1</th>\n",
       "      <td>-0.064081</td>\n",
       "      <td>-0.031003</td>\n",
       "      <td>1.000000</td>\n",
       "      <td>0.852118</td>\n",
       "      <td>0.801468</td>\n",
       "    </tr>\n",
       "    <tr>\n",
       "      <th>G2</th>\n",
       "      <td>-0.143474</td>\n",
       "      <td>-0.031777</td>\n",
       "      <td>0.852118</td>\n",
       "      <td>1.000000</td>\n",
       "      <td>0.904868</td>\n",
       "    </tr>\n",
       "    <tr>\n",
       "      <th>G3</th>\n",
       "      <td>-0.161579</td>\n",
       "      <td>0.034247</td>\n",
       "      <td>0.801468</td>\n",
       "      <td>0.904868</td>\n",
       "      <td>1.000000</td>\n",
       "    </tr>\n",
       "  </tbody>\n",
       "</table>\n",
       "</div>"
      ],
      "text/plain": [
       "               age  absences        G1        G2        G3\n",
       "age       1.000000  0.175230 -0.064081 -0.143474 -0.161579\n",
       "absences  0.175230  1.000000 -0.031003 -0.031777  0.034247\n",
       "G1       -0.064081 -0.031003  1.000000  0.852118  0.801468\n",
       "G2       -0.143474 -0.031777  0.852118  1.000000  0.904868\n",
       "G3       -0.161579  0.034247  0.801468  0.904868  1.000000"
      ]
     },
     "execution_count": 14,
     "metadata": {},
     "output_type": "execute_result"
    }
   ],
   "source": [
    "df[[\"age\", \"absences\", \"G1\", \"G2\", \"G3\"]].corr()"
   ]
  },
  {
   "cell_type": "markdown",
   "metadata": {},
   "source": [
    "##### Plots: for two of the numeric variables across one of the categorical variables\n",
    "\n",
    "Histograms"
   ]
  },
  {
   "cell_type": "code",
   "execution_count": 15,
   "metadata": {},
   "outputs": [
    {
     "data": {
      "image/png": "[encoded data removed]",
      "text/plain": [
       "<Figure size 432x288 with 1 Axes>"
      ]
     },
     "metadata": {
      "needs_background": "light"
     },
     "output_type": "display_data"
    }
   ],
   "source": [
    "# histogram #1: G3 by school\n",
    "df1 = df.loc[df.school == \"GP\", \"G3\"]\n",
    "df2 = df.loc[df.school == \"MS\", \"G3\"]\n",
    "\n",
    "# prep data for histogram\n",
    "df_hist = pd.DataFrame([pd.Series(df1), pd.Series(df2)]).transpose()\n",
    "df_hist.columns = [\"GP School\", \"MS School\"]\n",
    "\n",
    "# plot histogram with title and axis label\n",
    "df_hist.plot.hist(alpha = 0.5)\n",
    "plt.title(\"Histogram: G3 Grades by School\")\n",
    "plt.xlabel(\"G3 Grades\")\n",
    "\n",
    "plt.show()"
   ]
  },
  {
   "cell_type": "code",
   "execution_count": 16,
   "metadata": {},
   "outputs": [
    {
     "data": {
      "image/png": "[encoded data removed]",
      "text/plain": [
       "<Figure size 432x288 with 1 Axes>"
      ]
     },
     "metadata": {
      "needs_background": "light"
     },
     "output_type": "display_data"
    }
   ],
   "source": [
    "# histogram #2: age by sex\n",
    "df1 = df.loc[df.sex == \"F\", \"age\"]\n",
    "df2 = df.loc[df.sex == \"M\", \"age\"]\n",
    "\n",
    "# prep data for histogram\n",
    "df_hist = pd.DataFrame([pd.Series(df1), pd.Series(df2)]).transpose()\n",
    "df_hist.columns = [\"Female\", \"Male\"]\n",
    "\n",
    "# plot histogram with title and axis label\n",
    "df_hist.plot.hist(alpha = 0.5)\n",
    "plt.title(\"Histogram: Age by Sex\")\n",
    "plt.xlabel(\"Age\")\n",
    "\n",
    "plt.show()"
   ]
  },
  {
   "cell_type": "markdown",
   "metadata": {},
   "source": [
    "Kernel density plots"
   ]
  },
  {
   "cell_type": "code",
   "execution_count": 17,
   "metadata": {},
   "outputs": [
    {
     "data": {
      "image/png": "[encoded data removed]",
      "text/plain": [
       "<Figure size 432x288 with 1 Axes>"
      ]
     },
     "metadata": {
      "needs_background": "light"
     },
     "output_type": "display_data"
    }
   ],
   "source": [
    "# kernel density plot #1: G3 by school\n",
    "df.loc[df.school == \"GP\", \"G3\"].plot.density(bw_method = 0.5, label = \"GP\")\n",
    "df.loc[df.school == \"MS\", \"G3\"].plot.density(bw_method = 0.5, label = \"MS\")\n",
    "\n",
    "# assign title and axis labels\n",
    "plt.title(\"Kernel Density Plot: G3 Grades by School\")\n",
    "plt.xlabel(\"G3 Grades\")\n",
    "\n",
    "# add legend\n",
    "plt.legend()\n",
    "\n",
    "plt.show()"
   ]
  },
  {
   "cell_type": "code",
   "execution_count": 18,
   "metadata": {},
   "outputs": [
    {
     "data": {
      "image/png": "[encoded data removed]",
      "text/plain": [
       "<Figure size 432x288 with 1 Axes>"
      ]
     },
     "metadata": {
      "needs_background": "light"
     },
     "output_type": "display_data"
    }
   ],
   "source": [
    "# kernel density plot #2: age by sex\n",
    "df.loc[df.sex == \"F\", \"age\"].plot.density(bw_method = 0.5, label = \"Female\")\n",
    "df.loc[df.sex == \"M\", \"age\"].plot.density(bw_method = 0.5, label = \"Male\")\n",
    "\n",
    "# assign title and axis labels\n",
    "plt.title(\"Kernel Density Plot: Age by Sex\")\n",
    "plt.xlabel(\"Age\")\n",
    "\n",
    "# add legend\n",
    "plt.legend()\n",
    "\n",
    "plt.show()"
   ]
  },
  {
   "cell_type": "markdown",
   "metadata": {},
   "source": [
    "Boxplots"
   ]
  },
  {
   "cell_type": "code",
   "execution_count": 19,
   "metadata": {},
   "outputs": [
    {
     "data": {
      "image/png": "[encoded data removed]",
      "text/plain": [
       "<Figure size 432x288 with 2 Axes>"
      ]
     },
     "metadata": {
      "needs_background": "light"
     },
     "output_type": "display_data"
    }
   ],
   "source": [
    "# boxplot #1: G1 and G3 by school\n",
    "df.boxplot(column = [\"G1\", \"G3\"], by = [\"school\"])\n",
    "\n",
    "plt.show()"
   ]
  },
  {
   "cell_type": "code",
   "execution_count": 20,
   "metadata": {},
   "outputs": [
    {
     "data": {
      "image/png": "[encoded data removed]",
      "text/plain": [
       "<Figure size 432x288 with 2 Axes>"
      ]
     },
     "metadata": {
      "needs_background": "light"
     },
     "output_type": "display_data"
    }
   ],
   "source": [
    "# boxplot #2: G1 and G3 by sex\n",
    "df.boxplot(column = [\"G1\", \"G3\"], by = [\"sex\"])\n",
    "\n",
    "plt.show()"
   ]
  },
  {
   "cell_type": "markdown",
   "metadata": {},
   "source": [
    "Sctterplots"
   ]
  },
  {
   "cell_type": "code",
   "execution_count": 21,
   "metadata": {},
   "outputs": [
    {
     "data": {
      "image/png": "[encoded data removed]",
      "text/plain": [
       "<Figure size 432x288 with 2 Axes>"
      ]
     },
     "metadata": {
      "needs_background": "light"
     },
     "output_type": "display_data"
    }
   ],
   "source": [
    "# scatterplot #1: G3 vs age by school\n",
    "df.plot.scatter(x = \"age\", y = \"G3\", c = \"school\", cmap = \"tab20b\")\n",
    "\n",
    "# assign title and axis labels\n",
    "plt.title(\"Scatterplot: G3 Grades vs. Age by School\")\n",
    "plt.xlabel(\"Age\")\n",
    "plt.ylabel(\"G3 Grades\")\n",
    "\n",
    "plt.show()"
   ]
  },
  {
   "cell_type": "code",
   "execution_count": 22,
   "metadata": {},
   "outputs": [
    {
     "data": {
      "image/png": "[encoded data removed]",
      "text/plain": [
       "<Figure size 432x288 with 2 Axes>"
      ]
     },
     "metadata": {
      "needs_background": "light"
     },
     "output_type": "display_data"
    }
   ],
   "source": [
    "# scatterplot #1: G3 vs absences by sex\n",
    "df.plot.scatter(x = \"absences\", y = \"G3\", c = \"sex\", cmap = \"tab20b\")\n",
    "\n",
    "# assign title and axis labels\n",
    "plt.title(\"Scatterplot: G3 Grades vs. Absences by Sex\")\n",
    "plt.xlabel(\"Absences\")\n",
    "plt.ylabel(\"G3 Grades\")\n",
    "\n",
    "plt.show()"
   ]
  },
  {
   "cell_type": "markdown",
   "metadata": {},
   "source": [
    "## Part 2 - Summarizing World Development\n"
   ]
  },
  {
   "cell_type": "code",
   "execution_count": 23,
   "metadata": {},
   "outputs": [],
   "source": [
    "# read in data\n",
    "df_wd = pd.read_excel(\"WorldDevelopmentIndicators.xlsx\", sheet_name = \"Data\")"
   ]
  },
  {
   "cell_type": "code",
   "execution_count": 24,
   "metadata": {},
   "outputs": [
    {
     "name": "stdout",
     "output_type": "stream",
     "text": [
      "<class 'pandas.core.frame.DataFrame'>\n",
      "RangeIndex: 1048575 entries, 0 to 1048574\n",
      "Data columns (total 6 columns):\n",
      " #   Column          Non-Null Count    Dtype  \n",
      "---  ------          --------------    -----  \n",
      " 0   Country Name    1048575 non-null  object \n",
      " 1   Country Code    1048575 non-null  object \n",
      " 2   Indicator Name  1048575 non-null  object \n",
      " 3   Indicator Code  1048575 non-null  object \n",
      " 4   Year            1048575 non-null  int64  \n",
      " 5   Value           1048575 non-null  float64\n",
      "dtypes: float64(1), int64(1), object(4)\n",
      "memory usage: 48.0+ MB\n",
      "None\n"
     ]
    },
    {
     "data": {
      "text/html": [
       "<div>\n",
       "<style scoped>\n",
       "    .dataframe tbody tr th:only-of-type {\n",
       "        vertical-align: middle;\n",
       "    }\n",
       "\n",
       "    .dataframe tbody tr th {\n",
       "        vertical-align: top;\n",
       "    }\n",
       "\n",
       "    .dataframe thead th {\n",
       "        text-align: right;\n",
       "    }\n",
       "</style>\n",
       "<table border=\"1\" class=\"dataframe\">\n",
       "  <thead>\n",
       "    <tr style=\"text-align: right;\">\n",
       "      <th></th>\n",
       "      <th>Country Name</th>\n",
       "      <th>Country Code</th>\n",
       "      <th>Indicator Name</th>\n",
       "      <th>Indicator Code</th>\n",
       "      <th>Year</th>\n",
       "      <th>Value</th>\n",
       "    </tr>\n",
       "  </thead>\n",
       "  <tbody>\n",
       "    <tr>\n",
       "      <th>0</th>\n",
       "      <td>Arab World</td>\n",
       "      <td>ARB</td>\n",
       "      <td>Access to clean fuels and technologies for coo...</td>\n",
       "      <td>EG.CFT.ACCS.ZS</td>\n",
       "      <td>2000</td>\n",
       "      <td>73.702495</td>\n",
       "    </tr>\n",
       "    <tr>\n",
       "      <th>1</th>\n",
       "      <td>Arab World</td>\n",
       "      <td>ARB</td>\n",
       "      <td>Access to clean fuels and technologies for coo...</td>\n",
       "      <td>EG.CFT.ACCS.ZS</td>\n",
       "      <td>2001</td>\n",
       "      <td>74.944860</td>\n",
       "    </tr>\n",
       "    <tr>\n",
       "      <th>2</th>\n",
       "      <td>Arab World</td>\n",
       "      <td>ARB</td>\n",
       "      <td>Access to clean fuels and technologies for coo...</td>\n",
       "      <td>EG.CFT.ACCS.ZS</td>\n",
       "      <td>2002</td>\n",
       "      <td>76.258066</td>\n",
       "    </tr>\n",
       "    <tr>\n",
       "      <th>3</th>\n",
       "      <td>Arab World</td>\n",
       "      <td>ARB</td>\n",
       "      <td>Access to clean fuels and technologies for coo...</td>\n",
       "      <td>EG.CFT.ACCS.ZS</td>\n",
       "      <td>2003</td>\n",
       "      <td>77.120464</td>\n",
       "    </tr>\n",
       "    <tr>\n",
       "      <th>4</th>\n",
       "      <td>Arab World</td>\n",
       "      <td>ARB</td>\n",
       "      <td>Access to clean fuels and technologies for coo...</td>\n",
       "      <td>EG.CFT.ACCS.ZS</td>\n",
       "      <td>2004</td>\n",
       "      <td>78.094440</td>\n",
       "    </tr>\n",
       "  </tbody>\n",
       "</table>\n",
       "</div>"
      ],
      "text/plain": [
       "  Country Name Country Code  \\\n",
       "0   Arab World          ARB   \n",
       "1   Arab World          ARB   \n",
       "2   Arab World          ARB   \n",
       "3   Arab World          ARB   \n",
       "4   Arab World          ARB   \n",
       "\n",
       "                                      Indicator Name  Indicator Code  Year  \\\n",
       "0  Access to clean fuels and technologies for coo...  EG.CFT.ACCS.ZS  2000   \n",
       "1  Access to clean fuels and technologies for coo...  EG.CFT.ACCS.ZS  2001   \n",
       "2  Access to clean fuels and technologies for coo...  EG.CFT.ACCS.ZS  2002   \n",
       "3  Access to clean fuels and technologies for coo...  EG.CFT.ACCS.ZS  2003   \n",
       "4  Access to clean fuels and technologies for coo...  EG.CFT.ACCS.ZS  2004   \n",
       "\n",
       "       Value  \n",
       "0  73.702495  \n",
       "1  74.944860  \n",
       "2  76.258066  \n",
       "3  77.120464  \n",
       "4  78.094440  "
      ]
     },
     "execution_count": 24,
     "metadata": {},
     "output_type": "execute_result"
    }
   ],
   "source": [
    "# get dataframe info\n",
    "print(df_wd.info())\n",
    "\n",
    "# take a look at the first 5 rows\n",
    "df_wd.head()"
   ]
  },
  {
   "cell_type": "markdown",
   "metadata": {},
   "source": [
    "### Task 2: Summarize the data\n",
    "Use line charts to show how some economic and education measures have changed over time in different countries."
   ]
  },
  {
   "cell_type": "markdown",
   "metadata": {},
   "source": [
    "#### #1: How the access to clean fuels and technologies for cooking has changed over time in Arab world (ARB)?"
   ]
  },
  {
   "cell_type": "code",
   "execution_count": 25,
   "metadata": {},
   "outputs": [
    {
     "data": {
      "image/png": "[encoded data removed]",
      "text/plain": [
       "<Figure size 432x288 with 1 Axes>"
      ]
     },
     "metadata": {
      "needs_background": "light"
     },
     "output_type": "display_data"
    }
   ],
   "source": [
    "# select country of interest\n",
    "lst_country = [\"ARB\"]\n",
    "\n",
    "# select indicator of interest\n",
    "lst_indicator = [\"EG.CFT.ACCS.ZS\"]\n",
    "\n",
    "# subset the data set for plot\n",
    "df_p1 = df_wd[(df_wd[\"Country Code\"].isin(lst_country)) & (df_wd[\"Indicator Code\"].isin(lst_indicator))]\n",
    "\n",
    "# convert to wide form\n",
    "df_p1 = df_p1.pivot(index=\"Year\", columns=\"Country Code\", values=\"Value\")\n",
    "\n",
    "df_p1.plot.line()\n",
    "\n",
    "# assign title and axis labels\n",
    "plt.title(\"Access to Clean Fuels and Technologies for Cooking in Arab world\")\n",
    "plt.xlabel(\"Year\")\n",
    "plt.ylabel(\"% of Population\")\n",
    "\n",
    "plt.show()"
   ]
  },
  {
   "cell_type": "markdown",
   "metadata": {},
   "source": [
    "#### #2: How the access to electricity has changed over time in the following regions?\n",
    "\n",
    "- Arab World (ARB)\n",
    "- Caribbean small states (CEB)\n",
    "- Central Europe and the Baltics (CSS)\n",
    "- Early-demographic dividend (EAP)\n",
    "- East Asia & Pacific (excluding high income) (EAR)"
   ]
  },
  {
   "cell_type": "code",
   "execution_count": 26,
   "metadata": {},
   "outputs": [
    {
     "data": {
      "image/png": "[encoded data removed]",
      "text/plain": [
       "<Figure size 432x288 with 1 Axes>"
      ]
     },
     "metadata": {
      "needs_background": "light"
     },
     "output_type": "display_data"
    }
   ],
   "source": [
    "# select country of interest\n",
    "lst_country = ['ARB', 'CEB', 'CSS', 'EAP', 'EAR']\n",
    "\n",
    "# select indicator of interest\n",
    "lst_indicator = [\"EG.ELC.ACCS.ZS\"]\n",
    "\n",
    "# subset the data set for plot\n",
    "df_p2 = df_wd[(df_wd[\"Country Code\"].isin(lst_country)) & (df_wd[\"Indicator Code\"].isin(lst_indicator))]\n",
    "\n",
    "# convert to wide form\n",
    "df_p2 = df_p2.pivot(index=\"Year\", columns=\"Country Code\", values=\"Value\")\n",
    "\n",
    "df_p2.plot.line()\n",
    "\n",
    "# assign title and axis labels\n",
    "plt.title(\"Access to Electricity\")\n",
    "plt.xlabel(\"Year\")\n",
    "plt.ylabel(\"% of Population\")\n",
    "\n",
    "plt.show()"
   ]
  },
  {
   "cell_type": "markdown",
   "metadata": {},
   "source": [
    "#### #3: How the access to electricity has changed over time in rual and uraban areas in Arab world?"
   ]
  },
  {
   "cell_type": "code",
   "execution_count": 27,
   "metadata": {},
   "outputs": [
    {
     "data": {
      "image/png": "[encoded data removed]",
      "text/plain": [
       "<Figure size 432x288 with 1 Axes>"
      ]
     },
     "metadata": {
      "needs_background": "light"
     },
     "output_type": "display_data"
    }
   ],
   "source": [
    "# select country of interest\n",
    "lst_country = [\"ARB\"]\n",
    "\n",
    "# select indicator of interest\n",
    "lst_indicator = [\"EG.ELC.ACCS.RU.ZS\",\"EG.ELC.ACCS.UR.ZS\"]\n",
    "\n",
    "# subset the data set for plot\n",
    "df_p3 = df_wd[(df_wd[\"Country Code\"].isin(lst_country)) & (df_wd[\"Indicator Code\"].isin(lst_indicator))]\n",
    "\n",
    "# convert to wide form and change the column names\n",
    "df_p3 = df_p3.pivot(index=\"Year\", columns=\"Indicator Code\", values=\"Value\")\n",
    "df_p3.columns = [\"Rural\", \"Urban\"]\n",
    "\n",
    "df_p3.plot.line()\n",
    "\n",
    "# assign title and axis labels\n",
    "plt.title(\"Access to Electricity: Urban vs. Rural Areas in Arab world\")\n",
    "plt.xlabel(\"Year\")\n",
    "plt.ylabel(\"% of Population\")\n",
    "\n",
    "plt.show()"
   ]
  }
 ],
 "metadata": {
  "interpreter": {
   "hash": "662f86ef376671a988e108b9a80f41ae296e240171aee519bbf45f59b71f9158"
  },
  "kernelspec": {
   "display_name": "Python 3.10.1 64-bit",
   "language": "python",
   "name": "python3"
  },
  "language_info": {
   "codemirror_mode": {
    "name": "ipython",
    "version": 3
   },
   "file_extension": ".py",
   "mimetype": "text/x-python",
   "name": "python",
   "nbconvert_exporter": "python",
   "pygments_lexer": "ipython3",
   "version": "3.10.1"
  },
  "orig_nbformat": 4
 },
 "nbformat": 4,
 "nbformat_minor": 2
}
